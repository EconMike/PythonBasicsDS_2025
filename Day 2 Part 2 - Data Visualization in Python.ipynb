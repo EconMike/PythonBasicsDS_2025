{
 "cells": [
  {
   "cell_type": "markdown",
   "id": "b15416a6",
   "metadata": {},
   "source": [
    "## Python data visualization"
   ]
  },
  {
   "cell_type": "markdown",
   "id": "52735493",
   "metadata": {},
   "source": [
    "When working with data, it can be difficult to truly understand your data in a tabular format.\n",
    "Often we need to visualize it or represent it in an image. This helps expose patterns\n",
    ", correlations, and trends that cannot be obtained when data is in a table."
   ]
  },
  {
   "cell_type": "markdown",
   "id": "7776c19b",
   "metadata": {},
   "source": [
    "Data visualization is a field in data analysis that deals with visual representation of data. It graphically plots data and is \n",
    "an effective way to communicate inferences from data."
   ]
  },
  {
   "cell_type": "code",
   "execution_count": null,
   "id": "a999a93b",
   "metadata": {},
   "outputs": [],
   "source": []
  },
  {
   "cell_type": "markdown",
   "id": "96d8f0b7",
   "metadata": {},
   "source": [
    "# Matplotlib"
   ]
  },
  {
   "cell_type": "markdown",
   "id": "fa34b832",
   "metadata": {},
   "source": [
    "A histogram is a graph showing frequency distributions.\n",
    "\n",
    "It is a graph showing the number of observations within each given interval."
   ]
  },
  {
   "cell_type": "code",
   "execution_count": null,
   "id": "1290ee9c",
   "metadata": {},
   "outputs": [],
   "source": [
    "import matplotlib.pyplot as plt\n",
    "import pandas as pd"
   ]
  },
  {
   "cell_type": "code",
   "execution_count": null,
   "id": "3bf13c24",
   "metadata": {},
   "outputs": [],
   "source": [
    "df =pd.read_csv('iris_data.txt', sep=\",\", header=None, names=['Sepal.Length','Sepal.Width' ,'Petal.Length' ,'Petal.Width','Species'])"
   ]
  },
  {
   "cell_type": "code",
   "execution_count": null,
   "id": "a7571f71",
   "metadata": {},
   "outputs": [],
   "source": [
    "# Plot a histogram of a single column in the DataFrame\n",
    "df.hist(column='Sepal.Length')\n",
    "\n",
    "# Set the title and axis labels\n",
    "plt.title('Histogram of Length Variable')\n",
    "plt.xlabel('Values')\n",
    "plt.ylabel('Frequency')\n",
    "\n",
    "# Display the histogram\n",
    "plt.show()"
   ]
  },
  {
   "cell_type": "markdown",
   "id": "f4e0c1b5",
   "metadata": {},
   "source": [
    "##   boxplot\n",
    "\n",
    "A box plot is a method for graphically depicting groups of numerical data through their quartiles.\n",
    "Box plots are a great way to see if there are outliers in your dataset."
   ]
  },
  {
   "cell_type": "code",
   "execution_count": null,
   "id": "73eb7744",
   "metadata": {},
   "outputs": [],
   "source": [
    "boxplot=df.boxplot(column=['Sepal.Length'])\n",
    "print(df['Sepal.Length'].quantile([0.25,0.5,0.75]))\n",
    "print(boxplot)"
   ]
  },
  {
   "cell_type": "code",
   "execution_count": null,
   "id": "1600ff81",
   "metadata": {},
   "outputs": [],
   "source": [
    "#here we can see outliers in the data\n",
    "boxplot=df.boxplot(column=['Sepal.Width'])\n",
    "print(boxplot)"
   ]
  },
  {
   "cell_type": "code",
   "execution_count": null,
   "id": "0723e196",
   "metadata": {},
   "outputs": [],
   "source": [
    "boxplot=df.boxplot()\n",
    "# Display the boxplot for all variables\n",
    "plt.show()"
   ]
  },
  {
   "cell_type": "markdown",
   "id": "d4c43431",
   "metadata": {},
   "source": [
    "# line chart"
   ]
  },
  {
   "cell_type": "markdown",
   "id": "dcc7fb88",
   "metadata": {},
   "source": [
    "A line plot is a graphical display that visually represents the correlation between certain variables or \n",
    "changes in data over time using several points, \n",
    "usually ordered in their x-axis value, that are connected by straight line segments. \n",
    "Great for time series\n"
   ]
  },
  {
   "cell_type": "code",
   "execution_count": null,
   "id": "e655f838",
   "metadata": {},
   "outputs": [],
   "source": [
    "# Create a list of data to be represented in x-axis \n",
    "days = [ 'Saturday' , 'Sunday' , 'Monday' , 'Tuesday' , \n",
    "        'Wednesday' , 'Thursday' , 'Friday' ] \n",
    "  \n",
    "# Create a list of data to be  \n",
    "# represented in y-axis \n",
    "calories = [ 1670 , 2011 , 1853 , 2557 , \n",
    "            1390 , 2118 , 2063 ] \n",
    "stress = [ 900 , 300 , 500 , 100 , 800 , 500 , 100 ]  \n",
    "\n",
    "\n",
    "# Create a dataframe using the two lists \n",
    "df_days_calories = pd.DataFrame( \n",
    "    { 'day' : days , 'calories' : calories, 'stress':stress }) "
   ]
  },
  {
   "cell_type": "code",
   "execution_count": null,
   "id": "2d1dec55",
   "metadata": {},
   "outputs": [],
   "source": [
    "\n",
    "# use plot() method on the dataframe \n",
    "df_days_calories.plot( 'day' , 'calories' ) "
   ]
  },
  {
   "cell_type": "code",
   "execution_count": null,
   "id": "da84c851",
   "metadata": {},
   "outputs": [],
   "source": [
    "df_days_calories.plot()"
   ]
  },
  {
   "cell_type": "code",
   "execution_count": null,
   "id": "0e63fe24",
   "metadata": {},
   "outputs": [],
   "source": [
    "ax = plt.gca() \n",
    "  \n",
    "#use plot() method on the dataframe \n",
    "plt.title(\"Analysis\")\n",
    "\n",
    "\n",
    "plt.ylabel(\"Variables\")\n",
    "df_days_calories.plot( x = 'day' , y = 'stress', ax = ax ) \n",
    "df_days_calories.plot( x = 'day' , y = 'calories' , ax = ax ) "
   ]
  },
  {
   "cell_type": "markdown",
   "id": "8185dd2d",
   "metadata": {},
   "source": [
    "## Scatter plot\n",
    "\n",
    "A Scatter plot is a type of data visualization technique that shows the relationship between two numerical variables.\n",
    "For small data sets the output can show trends similar to line chart but with larger data\n",
    "scatter plots can show clusters or groups better than other visuals which is the strength of this kind of chart.\n",
    "\n"
   ]
  },
  {
   "cell_type": "code",
   "execution_count": null,
   "id": "bbb4816c",
   "metadata": {},
   "outputs": [],
   "source": [
    "# Draw a scatter plot \n",
    "df_days_calories.plot.scatter(x = 'day', y = 'calories')"
   ]
  },
  {
   "cell_type": "code",
   "execution_count": null,
   "id": "750506ac",
   "metadata": {},
   "outputs": [],
   "source": [
    "#create scatter plot of A_assists vs. A_points\n",
    "ax1=df_days_calories.plot(kind='scatter', x='day', y='calories', color='r', label='Calories')\n",
    "\n",
    "#add scatter plot on same graph using B_assists vs. B_points\n",
    "ax2=df_days_calories.plot(kind='scatter', x='day', y='stress', color='g', label='Stress', ax=ax1)\n",
    "\n",
    "#specify x-axis and y-axis labels\n",
    "ax1.set_xlabel('Days')\n",
    "ax1.set_ylabel('Values')\n",
    "\n",
    "#give a title\n",
    "plt.title(\"Analysis\")"
   ]
  },
  {
   "cell_type": "markdown",
   "id": "c81bb99c",
   "metadata": {},
   "source": [
    "## Bar plot\n",
    "\n",
    "A bar plot or bar chart is a graph that represents the category of data \n",
    "with rectangular bars with lengths and heights that is proportional to the\n",
    "values which they represent. The bar plots can be plotted horizontally or vertically.\n"
   ]
  },
  {
   "cell_type": "code",
   "execution_count": null,
   "id": "37c11931",
   "metadata": {},
   "outputs": [],
   "source": [
    "\n",
    "df_days_calories.plot(kind=\"bar\")"
   ]
  },
  {
   "cell_type": "code",
   "execution_count": null,
   "id": "2e825e91",
   "metadata": {},
   "outputs": [],
   "source": [
    "# Set 'day' as the index\n",
    "df_days_calories.set_index('day', inplace=True)"
   ]
  },
  {
   "cell_type": "code",
   "execution_count": null,
   "id": "e28d7912",
   "metadata": {},
   "outputs": [],
   "source": [
    "df_days_calories.plot(kind=\"bar\")"
   ]
  },
  {
   "cell_type": "code",
   "execution_count": null,
   "id": "2c33739a",
   "metadata": {},
   "outputs": [],
   "source": [
    "# Reset the index\n",
    "df_days_calories.reset_index(inplace=True)"
   ]
  },
  {
   "cell_type": "code",
   "execution_count": null,
   "id": "cdafeef6",
   "metadata": {},
   "outputs": [],
   "source": []
  },
  {
   "cell_type": "markdown",
   "id": "6cf214d0",
   "metadata": {},
   "source": [
    "## Seaborn\n",
    "\n",
    "creating visually appealing and informative statistical graphics. Built on Matplotlib's \n",
    "capabilities, enhancing its interface and offering more options for visualizing data, \n",
    "especially for statistical analysis. Seaborn's seamless integration with Pandas DataFrames\n",
    "makes it a favorite among data scientists and analysts.\n"
   ]
  },
  {
   "cell_type": "code",
   "execution_count": null,
   "id": "70d9aa6d",
   "metadata": {},
   "outputs": [],
   "source": [
    "import seaborn as sns"
   ]
  },
  {
   "cell_type": "code",
   "execution_count": null,
   "id": "e576e817",
   "metadata": {},
   "outputs": [],
   "source": [
    "#histogram  df.hist(column='Sepal.Length')"
   ]
  },
  {
   "cell_type": "code",
   "execution_count": null,
   "id": "7560be39",
   "metadata": {},
   "outputs": [],
   "source": [
    "sns.histplot(data=df, x='Sepal.Length')\n",
    "plt.title('Distribution of Length')\n",
    "plt.xlabel('Distribution')\n",
    "plt.ylabel('Frequency')\n",
    "plt.grid(True)\n",
    "plt.show()"
   ]
  },
  {
   "cell_type": "code",
   "execution_count": null,
   "id": "e94dfb26",
   "metadata": {},
   "outputs": [],
   "source": [
    "#boxplot\n",
    "sns.boxplot( data=df)"
   ]
  },
  {
   "cell_type": "code",
   "execution_count": null,
   "id": "dac181e4",
   "metadata": {},
   "outputs": [],
   "source": [
    "# line chart\n",
    "sns.lineplot(x='day', y='stress', data=df_days_calories)\n",
    "plt.title('Analysis')\n"
   ]
  },
  {
   "cell_type": "code",
   "execution_count": null,
   "id": "df5a1398",
   "metadata": {},
   "outputs": [],
   "source": [
    "#add labels\n",
    "\n",
    "sns.lineplot(x='day', y='stress', data=df_days_calories).set(title='Test data', xlabel='Day of the week', ylabel='Stress Index')"
   ]
  },
  {
   "cell_type": "code",
   "execution_count": null,
   "id": "f0f896ea",
   "metadata": {},
   "outputs": [],
   "source": [
    "#multiple lines\n",
    "\n",
    "\n",
    "sns.lineplot(x='day', y='stress', data=df_days_calories).set(title='Test data', xlabel='Day of the week', ylabel='Stress Index')\n",
    "sns.lineplot(x='day', y='calories', data=df_days_calories)\n",
    "plt.legend(labels = [\"stress\", \"calories\"], title = \"Variables\")\n",
    " \n",
    "plt.show()"
   ]
  },
  {
   "cell_type": "code",
   "execution_count": null,
   "id": "beb6829b",
   "metadata": {},
   "outputs": [],
   "source": [
    "## Scatter plot\n",
    "sns.scatterplot(x=\"day\",\n",
    "                    y=\"calories\",\n",
    "                    data=df_days_calories)"
   ]
  },
  {
   "cell_type": "code",
   "execution_count": null,
   "id": "09c1e6ee",
   "metadata": {},
   "outputs": [],
   "source": [
    "sns.scatterplot(x=\"day\",\n",
    "                    y=\"calories\",\n",
    "                    data=df_days_calories)\n",
    "\n",
    "sns.scatterplot(x=\"day\",\n",
    "                    y=\"stress\",\n",
    "                    data=df_days_calories)"
   ]
  },
  {
   "cell_type": "code",
   "execution_count": null,
   "id": "a78af1df",
   "metadata": {},
   "outputs": [],
   "source": [
    "## Bar plot"
   ]
  },
  {
   "cell_type": "code",
   "execution_count": null,
   "id": "d02e2adb",
   "metadata": {},
   "outputs": [],
   "source": [
    "sns.barplot(x = 'day',y = 'stress',data = df_days_calories)\n",
    "plt.show()"
   ]
  },
  {
   "cell_type": "code",
   "execution_count": null,
   "id": "a605da97",
   "metadata": {},
   "outputs": [],
   "source": []
  },
  {
   "cell_type": "markdown",
   "id": "286d6ec2",
   "metadata": {},
   "source": [
    "# Facet Grid\n",
    "\n",
    "This class maps a dataset onto multiple axes arrayed in a grid of rows and columns that correspond to levels of variables in the dataset.  This is great when doing exploritory data analysis of variables used for modeling. \n",
    "More on that later. "
   ]
  },
  {
   "cell_type": "code",
   "execution_count": null,
   "id": "b9836e5b",
   "metadata": {},
   "outputs": [],
   "source": [
    "df.head()"
   ]
  },
  {
   "cell_type": "code",
   "execution_count": null,
   "id": "d75de871",
   "metadata": {},
   "outputs": [],
   "source": [
    "g = sns.FacetGrid(df, col=\"Species\")\n",
    "g.map(sns.histplot, \"Sepal.Width\")"
   ]
  },
  {
   "cell_type": "code",
   "execution_count": null,
   "id": "c4f682b6",
   "metadata": {},
   "outputs": [],
   "source": [
    "g = sns.FacetGrid(df, col=\"Species\")\n",
    "g.map(sns.scatterplot, \"Sepal.Width\", \"Sepal.Length\", alpha=.7)\n",
    "g.add_legend()"
   ]
  },
  {
   "cell_type": "code",
   "execution_count": null,
   "id": "88230b31",
   "metadata": {},
   "outputs": [],
   "source": []
  }
 ],
 "metadata": {
  "kernelspec": {
   "display_name": "Python 3 (ipykernel)",
   "language": "python",
   "name": "python3"
  },
  "language_info": {
   "codemirror_mode": {
    "name": "ipython",
    "version": 3
   },
   "file_extension": ".py",
   "mimetype": "text/x-python",
   "name": "python",
   "nbconvert_exporter": "python",
   "pygments_lexer": "ipython3",
   "version": "3.10.9"
  }
 },
 "nbformat": 4,
 "nbformat_minor": 5
}
