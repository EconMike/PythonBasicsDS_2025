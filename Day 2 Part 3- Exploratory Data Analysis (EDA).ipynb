{
 "cells": [
  {
   "cell_type": "markdown",
   "id": "906877d3",
   "metadata": {},
   "source": [
    "# Exploratory Data Analysis"
   ]
  },
  {
   "cell_type": "markdown",
   "id": "448a0974",
   "metadata": {},
   "source": [
    "EDA is used for gaining a better understanding of data aspects like: \n",
    "\n",
    "main features of data \n",
    "variables and relationships that hold between them \n",
    "Identifying which variables are important for our problem \n",
    "We shall look at various exploratory data analysis methods like: \n",
    "\n",
    "Reading dataset\n",
    "Analyzing the data (all variables)\n",
    "Checking for the duplicates\n",
    "Missing Values Calculation\n",
    "\n",
    "\n",
    "Exploratory data analysis can help detect obvious errors, identify outliers in datasets, understand relationships, unearth important factors, find patterns within data, and provide new insights.\n",
    "\n",
    "Data scientists implement exploratory data analysis tools and techniques to investigate, analyze, and summarize the main characteristics of datasets, often utilizing data visualization methodologies. "
   ]
  },
  {
   "cell_type": "code",
   "execution_count": null,
   "id": "4b9db755",
   "metadata": {},
   "outputs": [],
   "source": [
    "# shape of the data\n",
    "df.shape\n",
    "\n",
    "#check data types\n",
    "df.dtypes\n",
    "\n",
    "#data information \n",
    "df.info()\n",
    "\n",
    "\n",
    "#count\n",
    "df.count()\n",
    "\n",
    "#check outliers\n",
    "#Detecting Outliers by using boxplot\n",
    "\n",
    "# describing the data\n",
    "df.describe()\n",
    "\n",
    "#column to list \n",
    "df.columns.tolist()\n",
    "\n",
    "# check for missing values:\n",
    "df.isnull().sum()\n",
    "\n",
    "\n",
    "#checking duplicate values \n",
    "df.nunique()\n",
    "\n",
    "#data visualization\n",
    "correlation, check for outliers, look at multi variate visualze.\n",
    "\n"
   ]
  },
  {
   "cell_type": "code",
   "execution_count": null,
   "id": "73150342",
   "metadata": {},
   "outputs": [],
   "source": [
    "import pandas as pd\n",
    "df =pd.read_csv('supermarket_sales - Sheet1.csv')\n",
    "#pull up the first five observations\n",
    "df.head()\n",
    "\n"
   ]
  },
  {
   "cell_type": "code",
   "execution_count": null,
   "id": "0fc755f9",
   "metadata": {},
   "outputs": [],
   "source": [
    "#pull up the info on the table\n",
    "df.info()"
   ]
  },
  {
   "cell_type": "code",
   "execution_count": null,
   "id": "280d7cef",
   "metadata": {},
   "outputs": [],
   "source": [
    "# shape of the data\n",
    "df.shape\n",
    "\n"
   ]
  },
  {
   "cell_type": "code",
   "execution_count": null,
   "id": "0b79f779",
   "metadata": {},
   "outputs": [],
   "source": [
    "#column to list \n",
    "df.columns.tolist()"
   ]
  },
  {
   "cell_type": "code",
   "execution_count": null,
   "id": "e5ab8f03",
   "metadata": {},
   "outputs": [],
   "source": [
    "#check data types\n",
    "df.dtypes"
   ]
  },
  {
   "cell_type": "code",
   "execution_count": null,
   "id": "2f945753",
   "metadata": {},
   "outputs": [],
   "source": [
    "#checking duplicate values , whole datatable\n",
    "len(df)-len(df.drop_duplicates())"
   ]
  },
  {
   "cell_type": "code",
   "execution_count": null,
   "id": "420002c8",
   "metadata": {
    "scrolled": true
   },
   "outputs": [],
   "source": [
    "#checking duplicate values , counts the number of unique entries in a column of a dataframe\n",
    "df.nunique()"
   ]
  },
  {
   "cell_type": "code",
   "execution_count": null,
   "id": "1813967e",
   "metadata": {},
   "outputs": [],
   "source": [
    "#count duplicate values in points column\n",
    "len(df['Unit price'])-len(df['Unit price'].drop_duplicates())"
   ]
  },
  {
   "cell_type": "code",
   "execution_count": null,
   "id": "1cc7de15",
   "metadata": {},
   "outputs": [],
   "source": [
    "#count\n",
    "df.count()"
   ]
  },
  {
   "cell_type": "code",
   "execution_count": null,
   "id": "e36db777",
   "metadata": {},
   "outputs": [],
   "source": [
    "\n",
    "# describing the data\n",
    "df.describe()\n"
   ]
  },
  {
   "cell_type": "code",
   "execution_count": null,
   "id": "0acab046",
   "metadata": {},
   "outputs": [],
   "source": [
    "df2=df.drop('gross margin percentage',axis=1)\n",
    "df2\n",
    "# check for missing values:\n",
    "#df.isnull().sum()\n",
    "\n"
   ]
  },
  {
   "cell_type": "code",
   "execution_count": null,
   "id": "42184207",
   "metadata": {},
   "outputs": [],
   "source": [
    "df2.corr()\n"
   ]
  },
  {
   "cell_type": "markdown",
   "id": "8ce84356",
   "metadata": {},
   "source": [
    "\n",
    "# data visualization\n",
    "correlation, check for outliers, look at multi variate visualze."
   ]
  },
  {
   "cell_type": "code",
   "execution_count": null,
   "id": "42d6544f",
   "metadata": {},
   "outputs": [],
   "source": [
    "df2.corr().style.background_gradient(cmap=\"Blues\")"
   ]
  },
  {
   "cell_type": "code",
   "execution_count": null,
   "id": "54bd7912",
   "metadata": {},
   "outputs": [],
   "source": [
    "import seaborn as sns\n",
    "#check Detecting outliers\n",
    "\n",
    "#boxplot\n",
    "sns.boxplot( data=df2)"
   ]
  },
  {
   "cell_type": "code",
   "execution_count": null,
   "id": "cb09ae46",
   "metadata": {},
   "outputs": [],
   "source": [
    "# create catplot facetplot object \n",
    "# Form a facetgrid using columns with a hue \n",
    "graph = sns.FacetGrid(df2, col ='Gender') \n",
    "# map the above form facetgrid with some attributes \n",
    "graph.map(sns.scatterplot, \"Tax 5%\", \"Unit price\").add_legend() \n",
    "# show the object "
   ]
  },
  {
   "cell_type": "code",
   "execution_count": null,
   "id": "be31df63",
   "metadata": {},
   "outputs": [],
   "source": [
    "graph = sns.FacetGrid(df2, col ='Product line') \n",
    "# map the above form facetgrid with some attributes \n",
    "graph.map(sns.scatterplot, \"Tax 5%\", \"Unit price\").add_legend() \n",
    "# show the object "
   ]
  },
  {
   "cell_type": "code",
   "execution_count": null,
   "id": "61bc2ea7",
   "metadata": {},
   "outputs": [],
   "source": [
    "  "
   ]
  }
 ],
 "metadata": {
  "kernelspec": {
   "display_name": "Python 3 (ipykernel)",
   "language": "python",
   "name": "python3"
  },
  "language_info": {
   "codemirror_mode": {
    "name": "ipython",
    "version": 3
   },
   "file_extension": ".py",
   "mimetype": "text/x-python",
   "name": "python",
   "nbconvert_exporter": "python",
   "pygments_lexer": "ipython3",
   "version": "3.10.9"
  }
 },
 "nbformat": 4,
 "nbformat_minor": 5
}
