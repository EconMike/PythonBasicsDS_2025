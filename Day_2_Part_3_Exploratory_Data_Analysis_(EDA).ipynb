{
  "cells": [
    {
      "cell_type": "markdown",
      "id": "906877d3",
      "metadata": {
        "id": "906877d3"
      },
      "source": [
        "# Exploratory Data Analysis"
      ]
    },
    {
      "cell_type": "markdown",
      "id": "448a0974",
      "metadata": {
        "id": "448a0974"
      },
      "source": [
        "EDA is used for gaining a better understanding of data aspects like:\n",
        "\n",
        "main features of data\n",
        "variables and relationships that hold between them\n",
        "Identifying which variables are important for our problem\n",
        "We shall look at various exploratory data analysis methods like:\n",
        "\n",
        "Reading dataset\n",
        "Analyzing the data (all variables)\n",
        "Checking for the duplicates\n",
        "Missing Values Calculation\n",
        "\n",
        "\n",
        "Exploratory data analysis can help detect obvious errors, identify outliers in datasets, understand relationships, unearth important factors, find patterns within data, and provide new insights.\n",
        "\n",
        "Data scientists implement exploratory data analysis tools and techniques to investigate, analyze, and summarize the main characteristics of datasets, often utilizing data visualization methodologies."
      ]
    },
    {
      "cell_type": "code",
      "execution_count": null,
      "id": "4b9db755",
      "metadata": {
        "id": "4b9db755"
      },
      "outputs": [],
      "source": [
        "# shape of the data\n",
        "#df.shape\n",
        "\n",
        "#check data types\n",
        "#df.dtypes\n",
        "\n",
        "#data information\n",
        "#df.info()\n",
        "\n",
        "\n",
        "#count\n",
        "#df.count()\n",
        "\n",
        "#check outliers\n",
        "#Detecting Outliers by using boxplot\n",
        "\n",
        "# describing the data\n",
        "#df.describe()\n",
        "\n",
        "#column to list\n",
        "#df.columns.tolist()\n",
        "\n",
        "# check for missing values:\n",
        "#df.isnull().sum()\n",
        "\n",
        "\n",
        "#checking duplicate values\n",
        "#df.nunique()\n",
        "\n",
        "#data visualization\n",
        "#correlation, check for outliers, look at multi variate visualze.\n",
        "\n"
      ]
    },
    {
      "cell_type": "code",
      "execution_count": null,
      "id": "73150342",
      "metadata": {
        "id": "73150342"
      },
      "outputs": [],
      "source": [
        "import pandas as pd\n",
        "df =pd.read_csv('supermarket_sales - Sheet1.csv')\n",
        "#pull up the first five observations\n",
        "df.head()\n",
        "\n"
      ]
    },
    {
      "cell_type": "code",
      "execution_count": null,
      "id": "0fc755f9",
      "metadata": {
        "id": "0fc755f9"
      },
      "outputs": [],
      "source": [
        "#pull up the info on the table\n",
        "df.info()"
      ]
    },
    {
      "cell_type": "code",
      "execution_count": null,
      "id": "280d7cef",
      "metadata": {
        "id": "280d7cef"
      },
      "outputs": [],
      "source": [
        "# shape of the data\n",
        "df.shape\n",
        "\n"
      ]
    },
    {
      "cell_type": "code",
      "execution_count": null,
      "id": "0b79f779",
      "metadata": {
        "id": "0b79f779"
      },
      "outputs": [],
      "source": [
        "#column to list\n",
        "df.columns.tolist()"
      ]
    },
    {
      "cell_type": "code",
      "execution_count": null,
      "id": "e5ab8f03",
      "metadata": {
        "id": "e5ab8f03"
      },
      "outputs": [],
      "source": [
        "#check data types\n",
        "df.dtypes"
      ]
    },
    {
      "cell_type": "code",
      "execution_count": null,
      "id": "2f945753",
      "metadata": {
        "id": "2f945753"
      },
      "outputs": [],
      "source": [
        "#checking duplicate values , whole datatable\n",
        "len(df)-len(df.drop_duplicates())"
      ]
    },
    {
      "cell_type": "code",
      "execution_count": null,
      "id": "420002c8",
      "metadata": {
        "scrolled": true,
        "id": "420002c8"
      },
      "outputs": [],
      "source": [
        "#checking duplicate values , counts the number of unique entries in a column of a dataframe\n",
        "df.nunique()"
      ]
    },
    {
      "cell_type": "code",
      "execution_count": null,
      "id": "1813967e",
      "metadata": {
        "id": "1813967e"
      },
      "outputs": [],
      "source": [
        "#count duplicate values in points column\n",
        "len(df['Unit price'])-len(df['Unit price'].drop_duplicates())"
      ]
    },
    {
      "cell_type": "code",
      "execution_count": null,
      "id": "1cc7de15",
      "metadata": {
        "id": "1cc7de15"
      },
      "outputs": [],
      "source": [
        "#count\n",
        "df.count()"
      ]
    },
    {
      "cell_type": "code",
      "execution_count": null,
      "id": "e36db777",
      "metadata": {
        "id": "e36db777"
      },
      "outputs": [],
      "source": [
        "\n",
        "# describing the data\n",
        "df.describe()\n"
      ]
    },
    {
      "cell_type": "code",
      "execution_count": null,
      "id": "0acab046",
      "metadata": {
        "id": "0acab046"
      },
      "outputs": [],
      "source": [
        "# run correlation for only these columns  Unit price    Quantity    Tax 5%  Total   cogs    gross income    Rating\n",
        "columns_for_correlation = ['Unit price', 'Quantity', 'Tax 5%', 'Total', 'cogs', 'gross income', 'Rating']\n",
        "\n",
        "df2=df[columns_for_correlation]\n",
        "\n",
        "\n",
        "\n",
        "df2.corr()"
      ]
    },
    {
      "cell_type": "markdown",
      "id": "8ce84356",
      "metadata": {
        "id": "8ce84356"
      },
      "source": [
        "\n",
        "# data visualization\n",
        "correlation, check for outliers, look at multi variate visualze."
      ]
    },
    {
      "cell_type": "code",
      "execution_count": null,
      "id": "42d6544f",
      "metadata": {
        "id": "42d6544f"
      },
      "outputs": [],
      "source": [
        "df2.corr().style.background_gradient(cmap=\"Blues\")"
      ]
    },
    {
      "cell_type": "code",
      "execution_count": null,
      "id": "54bd7912",
      "metadata": {
        "id": "54bd7912"
      },
      "outputs": [],
      "source": [
        "import seaborn as sns\n",
        "#check Detecting outliers\n",
        "\n",
        "#boxplot\n",
        "sns.boxplot( data=df2)"
      ]
    },
    {
      "cell_type": "code",
      "execution_count": null,
      "id": "cb09ae46",
      "metadata": {
        "id": "cb09ae46"
      },
      "outputs": [],
      "source": [
        "# create catplot facetplot object\n",
        "# Form a facetgrid using columns with a hue\n",
        "graph = sns.FacetGrid(df, col ='Gender')\n",
        "# map the above form facetgrid with some attributes\n",
        "graph.map(sns.scatterplot, \"Tax 5%\", \"Unit price\").add_legend()\n",
        "# show the object"
      ]
    },
    {
      "cell_type": "code",
      "execution_count": null,
      "id": "be31df63",
      "metadata": {
        "id": "be31df63"
      },
      "outputs": [],
      "source": [
        "graph = sns.FacetGrid(df, col ='Product line')\n",
        "# map the above form facetgrid with some attributes\n",
        "graph.map(sns.scatterplot, \"Tax 5%\", \"Unit price\").add_legend()\n",
        "# show the object"
      ]
    },
    {
      "cell_type": "code",
      "execution_count": null,
      "id": "61bc2ea7",
      "metadata": {
        "id": "61bc2ea7"
      },
      "outputs": [],
      "source": [
        ""
      ]
    }
  ],
  "metadata": {
    "kernelspec": {
      "display_name": "Python 3 (ipykernel)",
      "language": "python",
      "name": "python3"
    },
    "language_info": {
      "codemirror_mode": {
        "name": "ipython",
        "version": 3
      },
      "file_extension": ".py",
      "mimetype": "text/x-python",
      "name": "python",
      "nbconvert_exporter": "python",
      "pygments_lexer": "ipython3",
      "version": "3.10.9"
    },
    "colab": {
      "provenance": []
    }
  },
  "nbformat": 4,
  "nbformat_minor": 5
}