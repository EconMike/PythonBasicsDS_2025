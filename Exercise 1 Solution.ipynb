{
 "cells": [
  {
   "cell_type": "markdown",
   "id": "539634e3",
   "metadata": {},
   "source": [
    "## Below are some excerises goes over what we just covered.  Please try.."
   ]
  },
  {
   "cell_type": "code",
   "execution_count": null,
   "id": "6be9db71",
   "metadata": {},
   "outputs": [],
   "source": [
    "#Create an object with some value either string or numeric"
   ]
  },
  {
   "cell_type": "code",
   "execution_count": null,
   "id": "e31d4aea",
   "metadata": {},
   "outputs": [],
   "source": [
    "x=1\n",
    "x"
   ]
  },
  {
   "cell_type": "code",
   "execution_count": null,
   "id": "5fa29d1e",
   "metadata": {},
   "outputs": [],
   "source": []
  },
  {
   "cell_type": "code",
   "execution_count": null,
   "id": "6a3c16aa",
   "metadata": {},
   "outputs": [],
   "source": [
    "#There is a problem with the object below, please descripe the issue using a comment #\n",
    "\n",
    "2myvar = \"John\"\n",
    "\n",
    "#objects/variables cannot start with a number\n"
   ]
  },
  {
   "cell_type": "code",
   "execution_count": null,
   "id": "08b2cc3f",
   "metadata": {},
   "outputs": [],
   "source": [
    "#Check data type\n",
    "x = 5\n",
    "y = \"John\"\n",
    "\n",
    "type(x)\n",
    "type(y)"
   ]
  },
  {
   "cell_type": "code",
   "execution_count": null,
   "id": "e5a77158",
   "metadata": {},
   "outputs": [],
   "source": []
  },
  {
   "cell_type": "code",
   "execution_count": null,
   "id": "5a14353d",
   "metadata": {},
   "outputs": [],
   "source": [
    "#create a list of numerical values\n",
    "dlist= [1,2,3]"
   ]
  },
  {
   "cell_type": "code",
   "execution_count": null,
   "id": "4076c526",
   "metadata": {},
   "outputs": [],
   "source": []
  },
  {
   "cell_type": "code",
   "execution_count": null,
   "id": "c9818d03",
   "metadata": {},
   "outputs": [],
   "source": [
    "#Call in a module \"math\" , give it a new name , and call in the stored value pi\n",
    "\n",
    "import math as m\n",
    "m.pi\n"
   ]
  },
  {
   "cell_type": "markdown",
   "id": "8943a381",
   "metadata": {},
   "source": [
    "## Make a pandas dataframe using the DataFrame() function"
   ]
  },
  {
   "cell_type": "code",
   "execution_count": null,
   "id": "14f48ae5",
   "metadata": {},
   "outputs": [],
   "source": [
    "import pandas as pd\n",
    "\n",
    "data = {\n",
    "  \"calories\": [420, 380, 390, 380],\n",
    "  \"duration\": [50, 40, 45,40]\n",
    "}\n",
    "\n",
    "#load data into a DataFrame object:\n",
    "df = pd.DataFrame(data)"
   ]
  },
  {
   "cell_type": "code",
   "execution_count": null,
   "id": "b1c769ee",
   "metadata": {},
   "outputs": [],
   "source": []
  },
  {
   "cell_type": "markdown",
   "id": "82227b58",
   "metadata": {},
   "source": [
    "## Checking for Missing values"
   ]
  },
  {
   "cell_type": "code",
   "execution_count": null,
   "id": "b69c6a2d",
   "metadata": {},
   "outputs": [],
   "source": [
    "import pandas as pd\n",
    "import numpy as np\n",
    "\n",
    "data = {\n",
    "  \"calories\": [420, 380, np.nan,380],\n",
    "  \"duration\": [50,np.nan, 45,40]\n",
    "}\n",
    "\n",
    "#load data into a DataFrame object:\n",
    "df = pd.DataFrame(data)"
   ]
  },
  {
   "cell_type": "code",
   "execution_count": null,
   "id": "4e130f95",
   "metadata": {},
   "outputs": [],
   "source": [
    "# count missing cells by column\n",
    "\n",
    "print(df.isnull().sum())"
   ]
  },
  {
   "cell_type": "code",
   "execution_count": null,
   "id": "324d0e8a",
   "metadata": {},
   "outputs": [],
   "source": [
    "# count total missing for the whole dataframe\n",
    "\n",
    "print(df.isnull().values.sum())"
   ]
  },
  {
   "cell_type": "code",
   "execution_count": null,
   "id": "06c6f082",
   "metadata": {},
   "outputs": [],
   "source": [
    "#Using the statistics module use the mean function to calculate the mean value of the list below\n",
    "\n",
    "from statistics import mean\n",
    "\n",
    "# list of positive integer numbers\n",
    "data1 = [1, 3, 4, 5, 7, 9, 2]\n",
    " \n",
    "x = mean(data1)\n",
    "x"
   ]
  },
  {
   "cell_type": "code",
   "execution_count": null,
   "id": "27b4145e",
   "metadata": {},
   "outputs": [],
   "source": []
  },
  {
   "cell_type": "code",
   "execution_count": null,
   "id": "e4d1cbdd",
   "metadata": {},
   "outputs": [],
   "source": []
  }
 ],
 "metadata": {
  "kernelspec": {
   "display_name": "Python 3 (ipykernel)",
   "language": "python",
   "name": "python3"
  },
  "language_info": {
   "codemirror_mode": {
    "name": "ipython",
    "version": 3
   },
   "file_extension": ".py",
   "mimetype": "text/x-python",
   "name": "python",
   "nbconvert_exporter": "python",
   "pygments_lexer": "ipython3",
   "version": "3.10.9"
  }
 },
 "nbformat": 4,
 "nbformat_minor": 5
}
