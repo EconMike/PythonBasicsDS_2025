{
 "cells": [
  {
   "cell_type": "code",
   "execution_count": null,
   "id": "34aaa81a",
   "metadata": {},
   "outputs": [],
   "source": [
    "import pandas as pd\n",
    "df =pd.read_csv('iris_data.txt', sep=\",\", header=None, names=['Sepal.Length','Sepal.Width' ,'Petal.Length' ,'Petal.Width','Species'])\n"
   ]
  },
  {
   "cell_type": "code",
   "execution_count": null,
   "id": "718601f4",
   "metadata": {},
   "outputs": [],
   "source": []
  },
  {
   "cell_type": "code",
   "execution_count": null,
   "id": "ec220691",
   "metadata": {},
   "outputs": [],
   "source": [
    "# Printing top 5 rows \n",
    "   .head()"
   ]
  },
  {
   "cell_type": "code",
   "execution_count": null,
   "id": "795689c3",
   "metadata": {},
   "outputs": [],
   "source": [
    "# get shape info\n",
    "   .shape"
   ]
  },
  {
   "cell_type": "code",
   "execution_count": null,
   "id": "d2332c2d",
   "metadata": {},
   "outputs": [],
   "source": [
    "#get info on variables and data types\n",
    "   .info()"
   ]
  },
  {
   "cell_type": "code",
   "execution_count": null,
   "id": "2f0f84ed",
   "metadata": {},
   "outputs": [],
   "source": [
    "#get summary statistics\n",
    "   .describe()"
   ]
  },
  {
   "cell_type": "code",
   "execution_count": null,
   "id": "99d75ec9",
   "metadata": {},
   "outputs": [],
   "source": [
    "#count missings\n",
    "   .isnull().sum()"
   ]
  },
  {
   "cell_type": "code",
   "execution_count": null,
   "id": "79fd951a",
   "metadata": {},
   "outputs": [],
   "source": []
  },
  {
   "cell_type": "code",
   "execution_count": null,
   "id": "2c032306",
   "metadata": {},
   "outputs": [],
   "source": [
    "#Count values\n",
    "\n",
    "   .value_counts(\"Species\")"
   ]
  },
  {
   "cell_type": "code",
   "execution_count": null,
   "id": "24ea381a",
   "metadata": {},
   "outputs": [],
   "source": [
    "#check correlation\n",
    "\n",
    "   .corr(method='pearson')"
   ]
  },
  {
   "cell_type": "code",
   "execution_count": null,
   "id": "8e77e1fe",
   "metadata": {},
   "outputs": [],
   "source": [
    " #create visual of correlation \n",
    "  \n",
    "    .corr().style.background_gradient(cmap=\"Blues\")\n",
    "  \n",
    "#plt.show()"
   ]
  },
  {
   "cell_type": "code",
   "execution_count": null,
   "id": "6d641bd0",
   "metadata": {},
   "outputs": [],
   "source": [
    "# importing packages to check for outliers\n",
    "\n",
    "import seaborn as sns\n",
    "#check Detecting outliers\n",
    "\n",
    "#boxplot\n",
    "sns.boxplot( data=    )"
   ]
  },
  {
   "cell_type": "code",
   "execution_count": null,
   "id": "d5e740dd",
   "metadata": {},
   "outputs": [],
   "source": []
  },
  {
   "cell_type": "code",
   "execution_count": null,
   "id": "4d33a9b1",
   "metadata": {},
   "outputs": [],
   "source": [
    "#Creat a Facet wrap to show variables in one output\n",
    "graph = sns.FacetGrid(df, col ='Species') \n",
    "# map the above form facetgrid with some attributes \n",
    "graph.map(sns.scatterplot, 'Sepal.Length', 'Sepal.Width')"
   ]
  },
  {
   "cell_type": "code",
   "execution_count": null,
   "id": "425cb1f6",
   "metadata": {},
   "outputs": [],
   "source": []
  }
 ],
 "metadata": {
  "kernelspec": {
   "display_name": "Python 3 (ipykernel)",
   "language": "python",
   "name": "python3"
  },
  "language_info": {
   "codemirror_mode": {
    "name": "ipython",
    "version": 3
   },
   "file_extension": ".py",
   "mimetype": "text/x-python",
   "name": "python",
   "nbconvert_exporter": "python",
   "pygments_lexer": "ipython3",
   "version": "3.10.9"
  }
 },
 "nbformat": 4,
 "nbformat_minor": 5
}
