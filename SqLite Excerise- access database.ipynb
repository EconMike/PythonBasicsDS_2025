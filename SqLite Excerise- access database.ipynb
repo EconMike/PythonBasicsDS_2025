{
 "cells": [
  {
   "cell_type": "code",
   "execution_count": null,
   "id": "6f6b656b",
   "metadata": {},
   "outputs": [],
   "source": [
    "import sqlite3\n",
    "import pandas as pd"
   ]
  },
  {
   "cell_type": "code",
   "execution_count": null,
   "id": "654f3ffc",
   "metadata": {},
   "outputs": [],
   "source": [
    "# Create the connection and the database that we are calling test (test.db)\n",
    "\n",
    "conn = sqlite3.connect('test.db')"
   ]
  },
  {
   "cell_type": "code",
   "execution_count": null,
   "id": "78d3a350",
   "metadata": {},
   "outputs": [],
   "source": []
  },
  {
   "cell_type": "code",
   "execution_count": null,
   "id": "0bc4a0ce",
   "metadata": {},
   "outputs": [],
   "source": [
    "#creating a table in the database test calling it COMPANY\n",
    "\n",
    "conn.execute('''CREATE TABLE COMPANY\n",
    "         (ID INT PRIMARY KEY     NOT NULL,\n",
    "         NAME           TEXT    NOT NULL,\n",
    "         AGE            INT     NOT NULL,\n",
    "         ADDRESS        CHAR(50),\n",
    "         SALARY         REAL);''')"
   ]
  },
  {
   "cell_type": "code",
   "execution_count": null,
   "id": "4eefce32",
   "metadata": {},
   "outputs": [],
   "source": [
    "conn = sqlite3.connect('test.db')\n",
    "#enter data into the table COMPANY from the test database\n",
    "\n",
    "conn.execute(\"INSERT INTO COMPANY (ID,NAME,AGE,ADDRESS,SALARY) \\\n",
    "      VALUES (1, 'Paul', 32, 'California', 20000.00 )\");\n",
    "\n",
    "conn.execute(\"INSERT INTO COMPANY (ID,NAME,AGE,ADDRESS,SALARY) \\\n",
    "      VALUES (2, 'Allen', 25, 'Texas', 15000.00 )\");\n",
    "\n",
    "conn.execute(\"INSERT INTO COMPANY (ID,NAME,AGE,ADDRESS,SALARY) \\\n",
    "      VALUES (3, 'Teddy', 23, 'Norway', 20000.00 )\");\n",
    "\n",
    "conn.execute(\"INSERT INTO COMPANY (ID,NAME,AGE,ADDRESS,SALARY) \\\n",
    "      VALUES (4, 'Mark', 25, 'Rich-Mond ', 65000.00 )\");\n",
    "\n",
    "conn.commit()\n",
    "# it is important to call this method (.commt()) after every \n",
    "# transaction that modifies the table so that it stores it correctly\n"
   ]
  },
  {
   "cell_type": "code",
   "execution_count": null,
   "id": "81669f2b",
   "metadata": {},
   "outputs": [],
   "source": [
    "#pull the data from COMPANY table \n",
    "\n",
    "cursor = conn.execute(\"SELECT id, name, address, salary from COMPANY\").fetchall()\n",
    "print(cursor)  #display what we have collected\n",
    "\n"
   ]
  },
  {
   "cell_type": "markdown",
   "id": "9ea3d2b3",
   "metadata": {},
   "source": [
    "Lets use Pandas to get this same data from the database.  The connection\n",
    "still needs to be live.  "
   ]
  },
  {
   "cell_type": "code",
   "execution_count": null,
   "id": "c053d47b",
   "metadata": {},
   "outputs": [],
   "source": [
    "df = pd.read_sql_query(\"SELECT * from COMPANY\", conn)\n",
    "\n",
    "# Verify that result of SQL query is stored in the dataframe\n",
    "print(df.head())"
   ]
  },
  {
   "cell_type": "code",
   "execution_count": null,
   "id": "bd3da7d1",
   "metadata": {},
   "outputs": [],
   "source": [
    "conn.close()  #close the connection to the database"
   ]
  },
  {
   "cell_type": "code",
   "execution_count": null,
   "id": "8aa88190",
   "metadata": {},
   "outputs": [],
   "source": [
    "#can we still use the pandas dataframe that has the data from the database?\n",
    "\n",
    "df"
   ]
  },
  {
   "cell_type": "code",
   "execution_count": null,
   "id": "9412bff1",
   "metadata": {},
   "outputs": [],
   "source": [
    "#lets try to use pandas to get more data from the database without the connection being live.\n",
    "\n",
    "dft = pd.read_sql_query(\"SELECT ID from COMPANY\", conn)"
   ]
  },
  {
   "cell_type": "code",
   "execution_count": null,
   "id": "6957cb3a",
   "metadata": {},
   "outputs": [],
   "source": []
  }
 ],
 "metadata": {
  "kernelspec": {
   "display_name": "Python 3 (ipykernel)",
   "language": "python",
   "name": "python3"
  },
  "language_info": {
   "codemirror_mode": {
    "name": "ipython",
    "version": 3
   },
   "file_extension": ".py",
   "mimetype": "text/x-python",
   "name": "python",
   "nbconvert_exporter": "python",
   "pygments_lexer": "ipython3",
   "version": "3.10.9"
  }
 },
 "nbformat": 4,
 "nbformat_minor": 5
}
