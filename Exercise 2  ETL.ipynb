{
 "cells": [
  {
   "cell_type": "code",
   "execution_count": null,
   "id": "c9f19a2c",
   "metadata": {},
   "outputs": [],
   "source": [
    "#import CSV file\n",
    "\n",
    "#Hint: load data into Jupyter first then import\n",
    "\n",
    "import pandas as pd\n",
    "df =pd.read_csv('PRAC_DATA.csv')\n",
    "\n"
   ]
  },
  {
   "cell_type": "code",
   "execution_count": null,
   "id": "6afc0f3d",
   "metadata": {},
   "outputs": [],
   "source": []
  },
  {
   "cell_type": "code",
   "execution_count": null,
   "id": "157ff0ed",
   "metadata": {},
   "outputs": [],
   "source": [
    "#import zip file and pull out the data inside\n",
    "\n",
    "from zipfile import ZipFile    # Import zipfile\n",
    "\n",
    "file = 'Testzip2.zip'  \n",
    "\n"
   ]
  },
  {
   "cell_type": "code",
   "execution_count": null,
   "id": "4d3e6104",
   "metadata": {},
   "outputs": [],
   "source": []
  },
  {
   "cell_type": "code",
   "execution_count": null,
   "id": "b0525657",
   "metadata": {},
   "outputs": [],
   "source": [
    "#Import JSON File into Python and format it into  a usable data\n",
    "\n",
    "import json\n",
    "\n",
    "file = open('Test2.json')"
   ]
  },
  {
   "cell_type": "code",
   "execution_count": null,
   "id": "9d2b775e",
   "metadata": {},
   "outputs": [],
   "source": []
  },
  {
   "cell_type": "code",
   "execution_count": null,
   "id": "8fdd0c2c",
   "metadata": {},
   "outputs": [],
   "source": []
  },
  {
   "cell_type": "markdown",
   "id": "f1ebd24d",
   "metadata": {},
   "source": [
    "# Data wrangling"
   ]
  },
  {
   "cell_type": "code",
   "execution_count": null,
   "id": "769778e5",
   "metadata": {},
   "outputs": [],
   "source": [
    "df = pd.DataFrame({\n",
    "        'id': [1,2,3,4,5],\n",
    "        'Feature1': ['A', 'C', 'E', 'G', 'I'],\n",
    "        'Feature2': ['B', 'D', 'F', 'H', 'J']})\n",
    "\n",
    "df2 = pd.DataFrame({\n",
    "        'id': [1, 2, 6, 7, 8],\n",
    "        'Feature3': ['K', 'M', 'O', 'Q', 'S'],\n",
    "        'Feature4': ['L', 'N', 'P', 'R', 'T']})\n",
    "\n"
   ]
  },
  {
   "cell_type": "code",
   "execution_count": null,
   "id": "61f7db11",
   "metadata": {},
   "outputs": [],
   "source": [
    "#using the data above do the merging excerises below\n",
    "\n",
    "#inner join\n",
    "\n",
    "inner= pd.merge( ,   , on=[\"  \"])\n",
    "\n"
   ]
  },
  {
   "cell_type": "code",
   "execution_count": null,
   "id": "9eccaefb",
   "metadata": {},
   "outputs": [],
   "source": [
    "#outer join\n",
    "\n",
    "outer= pd.merge( ,   , how='  ', on=[\"  \"])"
   ]
  },
  {
   "cell_type": "code",
   "execution_count": null,
   "id": "bbb5dd35",
   "metadata": {},
   "outputs": [],
   "source": [
    "#Left Join\n",
    "\n",
    "left= pd.merge( ,   , how='  ', on=[\"  \"])"
   ]
  },
  {
   "cell_type": "code",
   "execution_count": null,
   "id": "8d7b49a3",
   "metadata": {},
   "outputs": [],
   "source": [
    "#right join\n",
    "\n",
    "right= pd.merge( ,   , how='  ', on=[\"  \"])"
   ]
  },
  {
   "cell_type": "code",
   "execution_count": null,
   "id": "1e0df2a8",
   "metadata": {},
   "outputs": [],
   "source": []
  },
  {
   "cell_type": "code",
   "execution_count": null,
   "id": "eaccd4ec",
   "metadata": {},
   "outputs": [],
   "source": [
    "#Transposing\n",
    "import pandas as pd\n",
    "df3= pd.DataFrame({\"Name\": [\"Pankaj\", \"Lisa\", \"David\"], \"ID\": [1, 2, 3], \"Role\": [\"CEO\", \"Editor\", \"Author\"]})\n",
    "\n",
    "df_melted = pd.melt(df3, id_vars=[\"ID\"], value_vars=[\"Name\", \"Role\"])\n",
    "\n",
    "print(  )"
   ]
  },
  {
   "cell_type": "code",
   "execution_count": null,
   "id": "6fc28e94",
   "metadata": {},
   "outputs": [],
   "source": [
    "#Export any data into a csv file to your directory\n",
    "\n",
    "df.to_csv( )"
   ]
  }
 ],
 "metadata": {
  "kernelspec": {
   "display_name": "Python 3 (ipykernel)",
   "language": "python",
   "name": "python3"
  },
  "language_info": {
   "codemirror_mode": {
    "name": "ipython",
    "version": 3
   },
   "file_extension": ".py",
   "mimetype": "text/x-python",
   "name": "python",
   "nbconvert_exporter": "python",
   "pygments_lexer": "ipython3",
   "version": "3.10.9"
  }
 },
 "nbformat": 4,
 "nbformat_minor": 5
}
