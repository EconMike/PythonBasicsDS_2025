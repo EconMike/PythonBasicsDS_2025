{
 "cells": [
  {
   "cell_type": "code",
   "execution_count": null,
   "id": "0027b976",
   "metadata": {},
   "outputs": [],
   "source": [
    "%%html\n",
    "<style>\n",
    "table{float:left}\n",
    "</style>"
   ]
  },
  {
   "cell_type": "code",
   "execution_count": null,
   "id": "1dd0260c",
   "metadata": {},
   "outputs": [],
   "source": [
    "#Execute Python code\n",
    "print(\"Hello, World!\")"
   ]
  },
  {
   "cell_type": "code",
   "execution_count": null,
   "id": "b07daa7e",
   "metadata": {},
   "outputs": [],
   "source": [
    "#Python Indentation \n",
    "#Indentation refers to the spaces at the beginning of a code line. indentation in Python is very important.\n",
    "\n",
    "if 5 > 2:\n",
    "  print(\"Five is greater than two!\")"
   ]
  },
  {
   "cell_type": "code",
   "execution_count": null,
   "id": "f72771dd",
   "metadata": {},
   "outputs": [],
   "source": [
    "if 5 > 2:\n",
    "print(\"Five is greater than two!\")"
   ]
  },
  {
   "cell_type": "code",
   "execution_count": null,
   "id": "6da6b2a1",
   "metadata": {},
   "outputs": [],
   "source": [
    "if 5 > 2:\n",
    "        print(\"Five is greater than two!\") "
   ]
  },
  {
   "cell_type": "code",
   "execution_count": null,
   "id": "e456be4e",
   "metadata": {},
   "outputs": [],
   "source": [
    "#Python Variables -  Python is an object Orientated Programming Language we store anything into objects\n",
    "\n",
    "x = 5\n",
    "y = \"Hello, World!\"\n",
    "\n",
    "\n"
   ]
  },
  {
   "cell_type": "code",
   "execution_count": null,
   "id": "5317a2e8",
   "metadata": {},
   "outputs": [],
   "source": [
    "#Python Variables  - Variables are containers for storing data values.\n",
    "\n",
    "x = 4       # x is of type int\n",
    "y = \"Sally\" # x is now of type str - String variables can be declared either by using single or double quotes\n",
    "print(x)\n",
    "print(y)\n",
    "\n"
   ]
  },
  {
   "cell_type": "code",
   "execution_count": null,
   "id": "25e0511e",
   "metadata": {},
   "outputs": [],
   "source": [
    "#Case-Sensitive  \n",
    "\n",
    "a = 4\n",
    "A "
   ]
  },
  {
   "cell_type": "code",
   "execution_count": null,
   "id": "0807e8e9",
   "metadata": {},
   "outputs": [],
   "source": [
    "#Variable Names\n",
    "#A variable name must start with a letter or the underscore character\n",
    "#A variable name cannot start with a number\n",
    "#A variable name can only contain alpha-numeric characters and underscores (A-z, 0-9, and _ )\n",
    "#Variable names are case-sensitive \n"
   ]
  },
  {
   "cell_type": "code",
   "execution_count": null,
   "id": "fb297cf3",
   "metadata": {},
   "outputs": [],
   "source": [
    "myvar = \"John\"\n",
    "my_var = \"John\"\n",
    "_my_var = \"John\"\n",
    "myVar = \"John\"\n",
    "MYVAR = \"John\"\n",
    "myvar2 = \"John\""
   ]
  },
  {
   "cell_type": "code",
   "execution_count": null,
   "id": "28f5f4ea",
   "metadata": {},
   "outputs": [],
   "source": [
    "2myvar = \"John\"\n",
    "my-var = \"John\"\n",
    "my var = \"John\""
   ]
  },
  {
   "cell_type": "code",
   "execution_count": null,
   "id": "b81824a7",
   "metadata": {},
   "outputs": [],
   "source": [
    "# Python allows you to assign values to multiple variables in one line:\n",
    "\n",
    "x, y, z = \"Orange\", \"Banana\", \"Cherry\"\n",
    "print(x)\n",
    "print(y)\n",
    "print(z)"
   ]
  },
  {
   "cell_type": "code",
   "execution_count": null,
   "id": "748a3f95",
   "metadata": {},
   "outputs": [],
   "source": [
    "fruits = [\"apple\", \"banana\", \"cherry\"]\n",
    "x, y, z = fruits\n",
    "print(x)\n",
    "print(y)\n",
    "print(z)"
   ]
  },
  {
   "cell_type": "code",
   "execution_count": null,
   "id": "92fe8224",
   "metadata": {},
   "outputs": [],
   "source": [
    "#Python print() function is often used to output variables.\n",
    "\n",
    "x = \"Python is awesome\"\n",
    "print(x)"
   ]
  },
  {
   "cell_type": "code",
   "execution_count": null,
   "id": "51d94e4c",
   "metadata": {},
   "outputs": [],
   "source": [
    "x = \"Python \"\n",
    "y = \"is \"\n",
    "z = \"awesome \"\n",
    "print(x, y, z)\n",
    "\n",
    "print(x + y + z)"
   ]
  },
  {
   "cell_type": "code",
   "execution_count": null,
   "id": "0d93f8ef",
   "metadata": {},
   "outputs": [],
   "source": [
    "#For numbers, the + character works as a mathematical operator\n",
    "x = 5\n",
    "y = 10\n",
    "print(x + y)"
   ]
  },
  {
   "cell_type": "code",
   "execution_count": null,
   "id": "a325725d",
   "metadata": {},
   "outputs": [],
   "source": [
    "x = 5\n",
    "y = \"John\"\n",
    "print(x, y)"
   ]
  },
  {
   "cell_type": "markdown",
   "id": "51f53c40",
   "metadata": {},
   "source": [
    "## Python Data Types\n",
    "\n"
   ]
  },
  {
   "cell_type": "markdown",
   "id": "e9aa3967",
   "metadata": {},
   "source": [
    "| Type of Data | Id  |\n",
    "|:--------|:--------:|\n",
    "|Text Type |\tstr  |\n",
    "|Numeric Types: |\tint, float, complex  |\n",
    "|Sequence Types: |\t list, tuple, range |\n",
    "|Mapping Type:  |\tdict |\n",
    "|Boolean Type: |\tbool |\n",
    "\n"
   ]
  },
  {
   "cell_type": "code",
   "execution_count": null,
   "id": "9391bcd2",
   "metadata": {},
   "outputs": [],
   "source": [
    "x = \"Hello World\" #str \n",
    "type(x)"
   ]
  },
  {
   "cell_type": "code",
   "execution_count": null,
   "id": "d5d936fa",
   "metadata": {},
   "outputs": [],
   "source": [
    "x = 20   #int \n",
    "type(x)"
   ]
  },
  {
   "cell_type": "code",
   "execution_count": null,
   "id": "37e965a2",
   "metadata": {},
   "outputs": [],
   "source": [
    "x = 20.5 #float \n",
    "type(x)"
   ]
  },
  {
   "cell_type": "code",
   "execution_count": null,
   "id": "e71d8640",
   "metadata": {},
   "outputs": [],
   "source": [
    "x = 1j   #complex \n",
    "type(x)"
   ]
  },
  {
   "cell_type": "code",
   "execution_count": null,
   "id": "2737da24",
   "metadata": {},
   "outputs": [],
   "source": [
    "x = True  #bool \n",
    "type(x)"
   ]
  },
  {
   "cell_type": "code",
   "execution_count": null,
   "id": "e0cd6203",
   "metadata": {},
   "outputs": [],
   "source": [
    "x = range(6)  #range \n",
    "type(x)"
   ]
  },
  {
   "cell_type": "code",
   "execution_count": null,
   "id": "04f636cb",
   "metadata": {},
   "outputs": [],
   "source": [
    "x = [\"apple\", \"banana\", \"cherry\"]  #list \n",
    "type(x)\n",
    "x"
   ]
  },
  {
   "cell_type": "code",
   "execution_count": null,
   "id": "f7af44a0",
   "metadata": {},
   "outputs": [],
   "source": [
    "x = (\"apple\", \"banana\", \"cherry\")  #tuple \n",
    "type(x)"
   ]
  },
  {
   "cell_type": "code",
   "execution_count": null,
   "id": "2ae5845e",
   "metadata": {},
   "outputs": [],
   "source": [
    "x = {\"name\" : \"John\", \"age\" : 36}  #dict \n",
    "type(x)"
   ]
  },
  {
   "cell_type": "code",
   "execution_count": null,
   "id": "3d43765c",
   "metadata": {},
   "outputs": [],
   "source": []
  },
  {
   "cell_type": "markdown",
   "id": "5bc9bc78",
   "metadata": {},
   "source": [
    "## Python Operators"
   ]
  },
  {
   "cell_type": "markdown",
   "id": "073f13d3",
   "metadata": {},
   "source": [
    "| Operator |\tName |\tExample\t|\n",
    "|:--------|:--------:|:--------:|\n",
    "|+\t|Addition |\tx + y|\t\n",
    "|-\t|Subtraction |\tx - y|\t\n",
    "|*\t|Multiplication |\tx * y|\t\n",
    "|/\t|Division |\tx / y\t|\n",
    "|%\t|Modulus |\tx % y\t|\n",
    "|**\t|Exponentiation |\tx ** y\t|\n",
    "\n",
    "\n"
   ]
  },
  {
   "cell_type": "markdown",
   "id": "274ec6d6",
   "metadata": {},
   "source": [
    "## Python Assignment Operators"
   ]
  },
  {
   "cell_type": "markdown",
   "id": "70ba82fb",
   "metadata": {},
   "source": [
    "|Operator|Example|Same As|\n",
    "|:--------|:--------:|:--------:|\n",
    "|=\t|x = 5\t|x = 5|\t\n",
    "|+=\t|x += 3\t|x = x + 3\t|\n",
    "|-=\t|x -= 3\t|x = x - 3\t|\n",
    "|*=\t|x *= 3\t|x = x * 3|"
   ]
  },
  {
   "cell_type": "markdown",
   "id": "27093d27",
   "metadata": {},
   "source": [
    "# f-string Formatting"
   ]
  },
  {
   "cell_type": "markdown",
   "id": "02a47a2e",
   "metadata": {},
   "source": [
    "f-string is a literal string, prefixed with 'f' , which contains expressions inside braces. The expressions are replaced with their values."
   ]
  },
  {
   "cell_type": "code",
   "execution_count": null,
   "id": "4c6b69f3",
   "metadata": {},
   "outputs": [],
   "source": [
    "## calling the 'title' method which makes the first letter of every word upper\n",
    "string = \"Math is fun!\"\n",
    "print(f\"{string.title()}\")"
   ]
  },
  {
   "cell_type": "code",
   "execution_count": null,
   "id": "36833a51",
   "metadata": {},
   "outputs": [],
   "source": [
    "## declaring variables\n",
    "name = \"Statistical seminars\"\n",
    "type_of_company = \"Educational\"\n",
    "\n",
    "## enclose your variable within the {} to display it's value in the output\n",
    "print(F\"{name} is an {type_of_company} meetup.\")"
   ]
  },
  {
   "cell_type": "markdown",
   "id": "c268062d",
   "metadata": {},
   "source": [
    "## Functions and modules"
   ]
  },
  {
   "cell_type": "markdown",
   "id": "0b4ccc03",
   "metadata": {},
   "source": [
    "Two types of functions:\n",
    "    \n",
    "Built-in library function: These are Standard functions in Python that are available to use.\n",
    "User-defined function: We can create our own functions based on our requirements."
   ]
  },
  {
   "cell_type": "markdown",
   "id": "76a96536",
   "metadata": {},
   "source": [
    "Parts of a function:\n",
    "\n",
    "def - A function begins with \" def \"\n",
    "name - def is followed by the function's name\n",
    "parenthesis - the name is followed by a pair of parenthesis and a colon ():\n",
    "              within the parenthesis there are arguments or parameters where values or objects are entered\n",
    "              when the function is used later in the code.\n",
    "\n",
    "body lines - Indented within the def are the \"body\" lines of code which make up the function.\n",
    "\n",
    "When a function runs, the computer runs its body lines from top to bottom.\n"
   ]
  },
  {
   "cell_type": "code",
   "execution_count": null,
   "id": "37708ab7",
   "metadata": {},
   "outputs": [],
   "source": [
    "def my_function():\n",
    "  print(\"Hello from a function\")"
   ]
  },
  {
   "cell_type": "code",
   "execution_count": null,
   "id": "ce4c7a1d",
   "metadata": {},
   "outputs": [],
   "source": [
    "my_function()"
   ]
  },
  {
   "cell_type": "code",
   "execution_count": null,
   "id": "c4d430d7",
   "metadata": {},
   "outputs": [],
   "source": [
    "def my_function(fname):\n",
    "  print(fname + \" Refsnes\")\n",
    "\n",
    "my_function(\"Emil\")"
   ]
  },
  {
   "cell_type": "code",
   "execution_count": null,
   "id": "cc6eb34a",
   "metadata": {},
   "outputs": [],
   "source": [
    "def my_function(x):\n",
    "  return x + 1\n",
    "\n",
    "# Invoke the function\n",
    "\n",
    "print(my_function(2))      # Output: 3"
   ]
  },
  {
   "cell_type": "code",
   "execution_count": null,
   "id": "e1324aac",
   "metadata": {},
   "outputs": [],
   "source": [
    "#Return multiple values\n",
    "\n",
    "def square_point(x, y, z):\n",
    "  x_squared = x * x\n",
    "  y_squared = y * y\n",
    "  z_squared = z * z\n",
    "  # Return all three values:\n",
    "  return x_squared, y_squared, z_squared"
   ]
  },
  {
   "cell_type": "code",
   "execution_count": null,
   "id": "f7d9df85",
   "metadata": {},
   "outputs": [],
   "source": [
    "square_point(2, 4, 5)"
   ]
  },
  {
   "cell_type": "code",
   "execution_count": null,
   "id": "20b3ea69",
   "metadata": {},
   "outputs": [],
   "source": []
  },
  {
   "cell_type": "markdown",
   "id": "4cc4862f",
   "metadata": {},
   "source": [
    "## Python Modules"
   ]
  },
  {
   "cell_type": "markdown",
   "id": "89700293",
   "metadata": {},
   "source": [
    "A file containing a set of functions you want to include in your application or python session.  Modules also contains variables of all types (arrays, dictionaries, objects).  You create an alias when you import a module, by using the as keyword:"
   ]
  },
  {
   "cell_type": "code",
   "execution_count": null,
   "id": "5893f5b3",
   "metadata": {},
   "outputs": [],
   "source": [
    "#Re-naming a Module\n",
    "\n",
    "import pandas as pd\n",
    "\n",
    "data = {\n",
    "  \"calories\": [420, 380, 390],\n",
    "  \"duration\": [50, 40, 45]\n",
    "}\n",
    "\n",
    "#load data into a DataFrame object:\n",
    "df = pd.DataFrame(data)\n",
    "\n",
    "print(df) "
   ]
  },
  {
   "cell_type": "markdown",
   "id": "674d2170",
   "metadata": {},
   "source": [
    "## Pandas dataframes\n"
   ]
  },
  {
   "cell_type": "markdown",
   "id": "930f25ad",
   "metadata": {},
   "source": [
    "two-dimensional labeled data structures with columns of potentially different types.\n",
    "\n",
    "In general, you could say that the pandas DataFrame consists of three main components: the data, the index, and the columns.\n",
    "\n"
   ]
  },
  {
   "cell_type": "code",
   "execution_count": null,
   "id": "074ffa88",
   "metadata": {},
   "outputs": [],
   "source": [
    "#load data into a DataFrame object:\n",
    "df = pd.DataFrame(data)\n",
    "\n",
    "print(df) "
   ]
  },
  {
   "cell_type": "markdown",
   "id": "f09b9206",
   "metadata": {},
   "source": [
    "The dir() function is a built-in function to list all the function names (or variable names) in a module. "
   ]
  },
  {
   "cell_type": "code",
   "execution_count": null,
   "id": "f3a23c5c",
   "metadata": {},
   "outputs": [],
   "source": [
    "x = dir(pd)\n",
    "print(x)"
   ]
  },
  {
   "cell_type": "markdown",
   "id": "70306ba4",
   "metadata": {},
   "source": [
    "## Import From Module\n"
   ]
  },
  {
   "cell_type": "code",
   "execution_count": null,
   "id": "68901ce4",
   "metadata": {},
   "outputs": [],
   "source": [
    "You can choose to import only parts from a module, by using the from keyword."
   ]
  },
  {
   "cell_type": "code",
   "execution_count": null,
   "id": "a03a2c17",
   "metadata": {},
   "outputs": [],
   "source": [
    "from math import pi\n",
    "pi"
   ]
  },
  {
   "cell_type": "code",
   "execution_count": null,
   "id": "f6f98ffb",
   "metadata": {},
   "outputs": [],
   "source": [
    "# but math is not established\n",
    "math.pi"
   ]
  },
  {
   "cell_type": "code",
   "execution_count": null,
   "id": "9384bedd",
   "metadata": {},
   "outputs": [],
   "source": [
    "import math as m\n",
    "m.pi"
   ]
  },
  {
   "cell_type": "code",
   "execution_count": null,
   "id": "92ec3c18",
   "metadata": {},
   "outputs": [],
   "source": [
    "from math import pi as PI\n",
    "PI"
   ]
  },
  {
   "cell_type": "code",
   "execution_count": null,
   "id": "d6e225a5",
   "metadata": {},
   "outputs": [],
   "source": []
  },
  {
   "cell_type": "markdown",
   "id": "f005ada8",
   "metadata": {},
   "source": [
    "# For Loop"
   ]
  },
  {
   "cell_type": "markdown",
   "id": "27585def",
   "metadata": {},
   "source": [
    "A for loop is used for iterating over a sequence (that is either a list, a tuple, a dictionary, a set, or a string).\n",
    "\n",
    "This is less like the for keyword in other programming languages, and works more like an iterator method as found in other object-orientated programming languages."
   ]
  },
  {
   "cell_type": "code",
   "execution_count": null,
   "id": "a9a160f7",
   "metadata": {},
   "outputs": [],
   "source": [
    "languages = ['Swift', 'Python', 'Scala', 'R ']\n",
    "\n",
    "# access items of a list using for loop\n",
    "for language in languages:\n",
    "    print(language)\n"
   ]
  },
  {
   "cell_type": "code",
   "execution_count": null,
   "id": "116b25a3",
   "metadata": {},
   "outputs": [],
   "source": [
    "row_1 = ['Facebook', 0.0, 'USD', 2974676, 3.5]\n",
    "for element in row_1:\n",
    "print(element)"
   ]
  },
  {
   "cell_type": "code",
   "execution_count": null,
   "id": "76d529b5",
   "metadata": {},
   "outputs": [],
   "source": [
    "adj = [\"red\", \"big\", \"tasty\"]\n",
    "fruits = [\"apple\", \"banana\", \"cherry\"]\n",
    "\n",
    "for x in adj:\n",
    "  for y in fruits:\n",
    "    print(x, y)"
   ]
  },
  {
   "cell_type": "markdown",
   "id": "bd913d1d",
   "metadata": {},
   "source": [
    "# Built-in Functions\n",
    "\n",
    "Python Functions is a block of statements that return the specific task. "
   ]
  },
  {
   "cell_type": "code",
   "execution_count": null,
   "id": "f9316db6",
   "metadata": {},
   "outputs": [],
   "source": [
    "import pandas as pd\n",
    "\n",
    "data = {\n",
    "  \"calories\": [420, 380, 390, 380],\n",
    "  \"duration\": [50, 40, 45,40]\n",
    "}\n",
    "\n",
    "#load data into a DataFrame object:\n",
    "df = pd.DataFrame(data)\n",
    "\n",
    "df['calories'].mean()\n",
    "df['calories'].median()\n",
    "df['calories'].mode()"
   ]
  },
  {
   "cell_type": "code",
   "execution_count": null,
   "id": "f6b0fc31",
   "metadata": {},
   "outputs": [],
   "source": []
  },
  {
   "cell_type": "code",
   "execution_count": null,
   "id": "700d6d9b",
   "metadata": {
    "scrolled": true
   },
   "outputs": [],
   "source": [
    "import inspect\n",
    "print(inspect.getfullargspec(pd.DataFrame))"
   ]
  },
  {
   "cell_type": "code",
   "execution_count": null,
   "id": "0f614851",
   "metadata": {},
   "outputs": [],
   "source": [
    "type(df)"
   ]
  },
  {
   "cell_type": "code",
   "execution_count": null,
   "id": "54106dc0",
   "metadata": {},
   "outputs": [],
   "source": [
    "list(df.columns)"
   ]
  },
  {
   "cell_type": "code",
   "execution_count": null,
   "id": "1e87eab4",
   "metadata": {},
   "outputs": [],
   "source": [
    "df.dtypes"
   ]
  },
  {
   "cell_type": "code",
   "execution_count": null,
   "id": "117960a5",
   "metadata": {},
   "outputs": [],
   "source": []
  },
  {
   "cell_type": "markdown",
   "id": "3dde575f",
   "metadata": {},
   "source": [
    "# Missing data"
   ]
  },
  {
   "cell_type": "markdown",
   "id": "e0c28a48",
   "metadata": {},
   "source": [
    "A situation where no value is stored in an observation (element/cell) within a variable. \n",
    "\n",
    "This is a common occurrence that is present whenever analyzing data or creating statistical models  (either computationally or visually).\n",
    "\n",
    "Why is this important?  \n",
    "\n",
    "    Most statistical procedures require a complete set of estimates for each variable. \n",
    "\n",
    "    Missing data may distort inferences about the population being analyzed\n",
    "\n",
    "    When the data set is incomplete the data analyst, researcher, or scientist needs to figure out how to deal with it \n"
   ]
  },
  {
   "cell_type": "code",
   "execution_count": null,
   "id": "9ede58e2",
   "metadata": {},
   "outputs": [],
   "source": [
    "import pandas as pd\n",
    "import numpy as np\n",
    "\n",
    "df = pd.Series([2,3,np.nan,7,10,])\n",
    "\n",
    "df.isnull()\n",
    "\n"
   ]
  },
  {
   "cell_type": "code",
   "execution_count": null,
   "id": "fda25d5a",
   "metadata": {},
   "outputs": [],
   "source": [
    "#drop missing data\n",
    "\n",
    "df.dropna()"
   ]
  },
  {
   "cell_type": "code",
   "execution_count": null,
   "id": "3a55aed1",
   "metadata": {},
   "outputs": [],
   "source": [
    "# count missing cells\n",
    "\n",
    "print(df.isnull().sum())"
   ]
  },
  {
   "cell_type": "code",
   "execution_count": null,
   "id": "3c0911a6",
   "metadata": {},
   "outputs": [],
   "source": [
    "# count total missing cells\n",
    "\n",
    "print(df.isnull().values.sum())"
   ]
  },
  {
   "cell_type": "code",
   "execution_count": null,
   "id": "f4814fa4",
   "metadata": {},
   "outputs": [],
   "source": [
    "# Import modules\n",
    "import pandas as pd\n",
    "import numpy as np\n",
    "\n",
    "\n",
    "#using the data from the earlier excerise\n",
    "#change the values lower than -3 to 1\n",
    "\n",
    "\n",
    "ser = pd.Series([0, 1, 2, 3, 4])\n",
    "\n",
    "ser.replace(0, 5)"
   ]
  },
  {
   "cell_type": "code",
   "execution_count": null,
   "id": "73e0dc1c",
   "metadata": {},
   "outputs": [],
   "source": [
    "data = {\n",
    "  \"calories\": [420, 380, 390, 380],\n",
    "  \"duration\": [50, 40, 45,40]\n",
    "}\n",
    "\n",
    "#load data into a DataFrame object:\n",
    "df = pd.DataFrame(data)\n",
    "\n",
    "df.replace(50, 5)\n",
    "df['duration'].replace(50, 5)"
   ]
  },
  {
   "cell_type": "markdown",
   "id": "6375cd32",
   "metadata": {},
   "source": [
    "## Statistics using Python"
   ]
  },
  {
   "cell_type": "code",
   "execution_count": null,
   "id": "e29eea0f",
   "metadata": {},
   "outputs": [],
   "source": [
    "from statistics import mean\n",
    "\n",
    "# list of positive integer numbers\n",
    "data1 = [1, 3, 4, 5, 7, 9, 2]\n",
    " \n",
    "x = mean(data1)\n",
    "x"
   ]
  },
  {
   "cell_type": "code",
   "execution_count": null,
   "id": "8af6a188",
   "metadata": {},
   "outputs": [],
   "source": [
    "from statistics import median\n",
    "\n",
    "# list of positive integer numbers\n",
    "data1 = [1, 3, 4, 5, 7, 9, 2]\n",
    " \n",
    "x = median(data1)\n",
    "x"
   ]
  },
  {
   "cell_type": "code",
   "execution_count": null,
   "id": "7015fe74",
   "metadata": {},
   "outputs": [],
   "source": [
    "from statistics import mode\n",
    "\n",
    "# list of positive integer numbers\n",
    "data1 = [1, 3, 4, 4, 7, 9, 2]\n",
    " \n",
    "x = mode(data1)\n",
    "x"
   ]
  },
  {
   "cell_type": "code",
   "execution_count": null,
   "id": "0b4779c4",
   "metadata": {},
   "outputs": [],
   "source": [
    "import statistics as s\n",
    "\n",
    "# list of positive integer numbers\n",
    "data1 = [1, 3, 4, 4, 7, 9, 2]\n",
    " \n",
    "x = s.variance(data1)\n",
    "x"
   ]
  },
  {
   "cell_type": "code",
   "execution_count": null,
   "id": "8bfd6196",
   "metadata": {},
   "outputs": [],
   "source": [
    "x = s.stdev(data1)\n",
    "x"
   ]
  },
  {
   "cell_type": "code",
   "execution_count": null,
   "id": "5ea9b28d",
   "metadata": {},
   "outputs": [],
   "source": [
    "experience = [1, 3, 4, 5, 5, 6, 7, 10, 11, 12, 15, 20, 25, 28, 30,35]\n",
    "\n",
    "salary = [20000, 30000, 40000, 45000, 55000, 60000, 80000, 100000, 130000, 150000, 200000, 230000, 250000, 300000, 350000, 400000]\n",
    "\n",
    "s.correlation(experience,salary)"
   ]
  },
  {
   "cell_type": "markdown",
   "id": "d275287a",
   "metadata": {},
   "source": [
    "## Calculations  (lambda, apply())"
   ]
  },
  {
   "cell_type": "markdown",
   "id": "6dbcfcdc",
   "metadata": {},
   "source": [
    "We can apply a lambda function to both the columns and rows of the Pandas data frame. \n",
    "An anonymous function which we can pass in instantly without defining a name or any thing like a full traditional function."
   ]
  },
  {
   "cell_type": "code",
   "execution_count": null,
   "id": "0c039b29",
   "metadata": {},
   "outputs": [],
   "source": [
    "import pandas as pd\n",
    "\n",
    "data = {\n",
    "  \"price\": [420, 380, 390, 380],\n",
    "  \"quantity\": [50, 40, 45,40]\n",
    "}\n",
    "\n",
    "#load data into a DataFrame object:\n",
    "df = pd.DataFrame(data)\n",
    "df\n"
   ]
  },
  {
   "cell_type": "code",
   "execution_count": null,
   "id": "6b51d1c6",
   "metadata": {},
   "outputs": [],
   "source": [
    "\n",
    "df = df.assign(Total_Sales = lambda x: (x['price'] * x['quantity']))\n",
    " \n",
    "# displaying the data frame\n",
    "df"
   ]
  },
  {
   "cell_type": "markdown",
   "id": "5a6667b6",
   "metadata": {},
   "source": [
    "## .apply() method."
   ]
  },
  {
   "cell_type": "markdown",
   "id": "c062dbe7",
   "metadata": {},
   "source": [
    ".apply() method. This function acts as a map() function in Python. It takes a function as an input and applies this function to an entire DataFrame."
   ]
  },
  {
   "cell_type": "code",
   "execution_count": null,
   "id": "9a67af24",
   "metadata": {},
   "outputs": [],
   "source": [
    "# Gather sum of all columns\n",
    "stat_totals = df.apply(sum, axis=0)\n",
    "print(stat_totals)"
   ]
  },
  {
   "cell_type": "code",
   "execution_count": null,
   "id": "bfe7483e",
   "metadata": {},
   "outputs": [],
   "source": []
  }
 ],
 "metadata": {
  "kernelspec": {
   "display_name": "Python 3 (ipykernel)",
   "language": "python",
   "name": "python3"
  },
  "language_info": {
   "codemirror_mode": {
    "name": "ipython",
    "version": 3
   },
   "file_extension": ".py",
   "mimetype": "text/x-python",
   "name": "python",
   "nbconvert_exporter": "python",
   "pygments_lexer": "ipython3",
   "version": "3.10.9"
  }
 },
 "nbformat": 4,
 "nbformat_minor": 5
}
