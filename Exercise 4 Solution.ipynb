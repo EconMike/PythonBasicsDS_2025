{
 "cells": [
  {
   "cell_type": "code",
   "execution_count": null,
   "id": "633afb41",
   "metadata": {},
   "outputs": [],
   "source": [
    "import pandas as pd\n",
    "df =pd.read_csv('iris_data.txt', sep=\",\", header=None, names=['Sepal.Length','Sepal.Width' ,'Petal.Length' ,'Petal.Width','Species'])\n",
    "\n"
   ]
  },
  {
   "cell_type": "code",
   "execution_count": null,
   "id": "a0ee8bcb",
   "metadata": {},
   "outputs": [],
   "source": []
  },
  {
   "cell_type": "code",
   "execution_count": null,
   "id": "b055b852",
   "metadata": {},
   "outputs": [],
   "source": [
    "#Use Matplotlib to create a boxplot to check for outliers in the column Sepal.Width\n",
    "import matplotlib.pyplot as plt\n",
    "\n",
    "boxplot=df.boxplot(column=['Sepal.Length'])\n",
    "print(boxplot)"
   ]
  },
  {
   "cell_type": "code",
   "execution_count": null,
   "id": "aff6a52d",
   "metadata": {},
   "outputs": [],
   "source": [
    "boxplot=df.boxplot()\n",
    "plt.show()"
   ]
  },
  {
   "cell_type": "code",
   "execution_count": null,
   "id": "2e854294",
   "metadata": {},
   "outputs": [],
   "source": []
  },
  {
   "cell_type": "code",
   "execution_count": null,
   "id": "89964eb2",
   "metadata": {},
   "outputs": [],
   "source": [
    "#Create a line chart using data below\n",
    "\n",
    "# Create a list of data to be represented in x-axis \n",
    "days = [ 'Saturday' , 'Sunday' , 'Monday' , 'Tuesday' , \n",
    "        'Wednesday' , 'Thursday' , 'Friday' ] \n",
    "  \n",
    "# Create a list of data to be  \n",
    "# represented in y-axis \n",
    "calories = [ 1670 , 2011 , 1853 , 2557 , \n",
    "            1390 , 2118 , 2063 ] \n",
    "stress = [ 900 , 300 , 500 , 100 , 800 , 500 , 100 ]  \n",
    "\n",
    "\n",
    "# Create a dataframe using the two lists \n",
    "df_days_calories = pd.DataFrame( \n",
    "    { 'day' : days , 'calories' : calories, 'stress':stress }) \n",
    "\n",
    "# use plot() method on the dataframe \n",
    "df_days_calories.plot( 'day' , 'calories' ) \n",
    "plt.show()"
   ]
  },
  {
   "cell_type": "code",
   "execution_count": null,
   "id": "58b94972",
   "metadata": {},
   "outputs": [],
   "source": [
    "#Give your chart a title\n",
    "\n",
    "\n",
    "\n",
    "df_days_calories.plot( 'day' , 'calories' ) \n",
    "plt.ylabel(\"Values\")\n",
    "plt.title(\"Analysis\")\n",
    "\n",
    "plt.show()"
   ]
  },
  {
   "cell_type": "code",
   "execution_count": null,
   "id": "3c5bda6a",
   "metadata": {},
   "outputs": [],
   "source": []
  },
  {
   "cell_type": "code",
   "execution_count": null,
   "id": "4b162bbe",
   "metadata": {},
   "outputs": [],
   "source": [
    "#Create a Bar plot  \n",
    "\n",
    "df_days_calories.plot(kind=\"bar\")\n",
    "plt.show()"
   ]
  },
  {
   "cell_type": "code",
   "execution_count": null,
   "id": "701f9d6c",
   "metadata": {},
   "outputs": [],
   "source": []
  },
  {
   "cell_type": "code",
   "execution_count": null,
   "id": "522713c4",
   "metadata": {},
   "outputs": [],
   "source": [
    "#Seaborn \n",
    "\n",
    "import seaborn as sns\n",
    "\n",
    "#create a bar plot using df_days_calories data\n",
    "\n",
    "sns.barplot(x = 'day',y = 'calories',data = df_days_calories)\n",
    "plt.show()"
   ]
  },
  {
   "cell_type": "code",
   "execution_count": null,
   "id": "3f4d38e2",
   "metadata": {},
   "outputs": [],
   "source": []
  },
  {
   "cell_type": "code",
   "execution_count": null,
   "id": "b4345897",
   "metadata": {},
   "outputs": [],
   "source": [
    "#Make a Facet wrap chart \n",
    "df =pd.read_csv('iris_data.txt', sep=\",\", header=None, names=['Sepal.Length','Sepal.Width' ,'Petal.Length' ,'Petal.Width','Species'])\n"
   ]
  },
  {
   "cell_type": "code",
   "execution_count": null,
   "id": "5354769d",
   "metadata": {},
   "outputs": [],
   "source": [
    "g = sns.FacetGrid(df, col=\"Species\")\n",
    "g.map(sns.scatterplot, \"Sepal.Width\", \"Sepal.Length\")\n",
    "plt.show()"
   ]
  },
  {
   "cell_type": "code",
   "execution_count": null,
   "id": "a8e1146c",
   "metadata": {},
   "outputs": [],
   "source": []
  }
 ],
 "metadata": {
  "kernelspec": {
   "display_name": "Python 3 (ipykernel)",
   "language": "python",
   "name": "python3"
  },
  "language_info": {
   "codemirror_mode": {
    "name": "ipython",
    "version": 3
   },
   "file_extension": ".py",
   "mimetype": "text/x-python",
   "name": "python",
   "nbconvert_exporter": "python",
   "pygments_lexer": "ipython3",
   "version": "3.10.9"
  }
 },
 "nbformat": 4,
 "nbformat_minor": 5
}
