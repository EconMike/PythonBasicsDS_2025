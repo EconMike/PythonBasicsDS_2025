{
 "cells": [
  {
   "cell_type": "markdown",
   "id": "d0715c16",
   "metadata": {},
   "source": [
    "## Below are some excerises goes over what we just covered.  Please try.."
   ]
  },
  {
   "cell_type": "code",
   "execution_count": null,
   "id": "7aac73d6",
   "metadata": {},
   "outputs": [],
   "source": [
    "#Create an object with some value either string or numeric"
   ]
  },
  {
   "cell_type": "code",
   "execution_count": null,
   "id": "626ea581",
   "metadata": {},
   "outputs": [],
   "source": []
  },
  {
   "cell_type": "code",
   "execution_count": null,
   "id": "6532747a",
   "metadata": {},
   "outputs": [],
   "source": []
  },
  {
   "cell_type": "code",
   "execution_count": null,
   "id": "2fad4416",
   "metadata": {},
   "outputs": [],
   "source": [
    "#There is a problem with the object below, please descripe the issue using a comment #\n",
    "\n",
    "2myvar = \"John\"\n",
    "\n",
    "#\n"
   ]
  },
  {
   "cell_type": "code",
   "execution_count": null,
   "id": "85f3e493",
   "metadata": {},
   "outputs": [],
   "source": [
    "#Check data type\n",
    "x = 5\n",
    "y = \"John\"\n",
    "\n",
    "type()\n"
   ]
  },
  {
   "cell_type": "code",
   "execution_count": null,
   "id": "a5a857d1",
   "metadata": {},
   "outputs": [],
   "source": []
  },
  {
   "cell_type": "code",
   "execution_count": null,
   "id": "a742668a",
   "metadata": {},
   "outputs": [],
   "source": [
    "#create a list of numerical values\n",
    "dlist= []"
   ]
  },
  {
   "cell_type": "code",
   "execution_count": null,
   "id": "467e7e59",
   "metadata": {},
   "outputs": [],
   "source": []
  },
  {
   "cell_type": "code",
   "execution_count": null,
   "id": "65e9a0fe",
   "metadata": {},
   "outputs": [],
   "source": [
    "#Call in a module \"math\" , give it a new name , and call in the stored value pi\n",
    "\n",
    "import math as m\n",
    "\n"
   ]
  },
  {
   "cell_type": "markdown",
   "id": "b5007f55",
   "metadata": {},
   "source": [
    "## Make a pandas dataframe using the DataFrame() function"
   ]
  },
  {
   "cell_type": "code",
   "execution_count": null,
   "id": "be3a58c0",
   "metadata": {},
   "outputs": [],
   "source": [
    "import \n",
    "\n",
    "data = {\n",
    "  \"calories\": [420, 380, 390, 380],\n",
    "  \"duration\": [50, 40, 45,40]\n",
    "}\n",
    "\n"
   ]
  },
  {
   "cell_type": "code",
   "execution_count": null,
   "id": "d9cae398",
   "metadata": {},
   "outputs": [],
   "source": []
  },
  {
   "cell_type": "markdown",
   "id": "21047a42",
   "metadata": {},
   "source": [
    "## Checking for Missing values"
   ]
  },
  {
   "cell_type": "code",
   "execution_count": null,
   "id": "6cb6041b",
   "metadata": {},
   "outputs": [],
   "source": [
    "import pandas as pd\n",
    "import numpy as np\n",
    "\n",
    "data = {\n",
    "  \"calories\": [420, 380, np.nan,380],\n",
    "  \"duration\": [50,np.nan, 45,40]\n",
    "}\n",
    "\n",
    "#load data into a DataFrame object:\n",
    "df = pd.DataFrame(data)"
   ]
  },
  {
   "cell_type": "code",
   "execution_count": null,
   "id": "23b6c827",
   "metadata": {},
   "outputs": [],
   "source": [
    "# count missing cells by column\n",
    "\n",
    "print(df.isnull().sum())"
   ]
  },
  {
   "cell_type": "code",
   "execution_count": null,
   "id": "28c982e7",
   "metadata": {},
   "outputs": [],
   "source": []
  },
  {
   "cell_type": "code",
   "execution_count": null,
   "id": "918955ba",
   "metadata": {},
   "outputs": [],
   "source": [
    "#Using the statistics module use the mean function to calculate the mean value of the list below\n",
    "\n",
    "from statistics import mean\n",
    "\n",
    "# list of positive integer numbers\n",
    "data1 = [1, 3, 4, 5, 7, 9, 2]\n",
    " "
   ]
  },
  {
   "cell_type": "code",
   "execution_count": null,
   "id": "7ecb09fd",
   "metadata": {},
   "outputs": [],
   "source": []
  },
  {
   "cell_type": "code",
   "execution_count": null,
   "id": "d2448ff8",
   "metadata": {},
   "outputs": [],
   "source": []
  }
 ],
 "metadata": {
  "kernelspec": {
   "display_name": "Python 3 (ipykernel)",
   "language": "python",
   "name": "python3"
  },
  "language_info": {
   "codemirror_mode": {
    "name": "ipython",
    "version": 3
   },
   "file_extension": ".py",
   "mimetype": "text/x-python",
   "name": "python",
   "nbconvert_exporter": "python",
   "pygments_lexer": "ipython3",
   "version": "3.10.9"
  }
 },
 "nbformat": 4,
 "nbformat_minor": 5
}
